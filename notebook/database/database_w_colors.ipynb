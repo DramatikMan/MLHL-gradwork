{
 "cells": [
  {
   "cell_type": "code",
   "execution_count": 1,
   "metadata": {},
   "outputs": [
    {
     "data": {
      "application/vnd.jupyter.widget-view+json": {
       "model_id": "181c6ebc640b426faeb7ebbd95dcfc48",
       "version_major": 2,
       "version_minor": 0
      },
      "text/plain": [
       "  0%|          | 0/21000 [00:00<?, ?it/s]"
      ]
     },
     "metadata": {},
     "output_type": "display_data"
    }
   ],
   "source": [
    "import numpy as np\n",
    "import pandas as pd\n",
    "from color_utils import RGB, RYB\n",
    "from numpy.typing import NDArray\n",
    "from pathlib import Path\n",
    "from PIL import Image\n",
    "from tqdm.notebook import tqdm\n",
    "\n",
    "\n",
    "out_name = \"database_w_colors.csv\"\n",
    "color_RGB_col, color_RYB_col = \"color_RGB\", \"color_RYB\"\n",
    "\n",
    "if not Path(out_name).exists():\n",
    "    database = pd.read_csv(\"database.csv\")\n",
    "    database[color_RGB_col], database[color_RYB_col] = \"\", \"\"\n",
    "    database.to_csv(out_name, index=False)\n",
    "\n",
    "database = pd.read_csv(out_name)\n",
    "start = database[color_RGB_col].isna().where(lambda x: x == True).first_valid_index()\n",
    "data_root_path = Path.cwd().parent\n",
    "\n",
    "progress = tqdm(total=21000)\n",
    "progress.update(start)\n",
    "i = start\n",
    "\n",
    "\n",
    "def assign_colors(\n",
    "    df: pd.DataFrame,\n",
    "    row_idx: int,\n",
    "    image: NDArray[np.uint8],\n",
    ") -> None:\n",
    "    df.at[row_idx, color_RGB_col] = RGB.get_dominant_color(image)\n",
    "    df.at[row_idx, color_RYB_col] = RYB.get_dominant_color(image)\n",
    "\n",
    "\n",
    "while i < 21000:\n",
    "    path = data_root_path / Path(database.at[i, \"path\"])\n",
    "\n",
    "    with Image.open(path, formats=(\"JPEG\",)) as image:\n",
    "        try:\n",
    "            assign_colors(database, i, image)\n",
    "        except IndexError:\n",
    "            with open(\"bad_images.txt\", \"a\") as bad_images:\n",
    "                bad_images.write(str(path) + \"\\n\")\n",
    "\n",
    "            image.resize((224, 224)).save(path, \"JPEG\")\n",
    "            continue\n",
    "        except Exception as ex:\n",
    "            with open(\"error.log\", \"a\") as log:\n",
    "                log.write(str(ex))\n",
    "\n",
    "            raise\n",
    "\n",
    "    i += 1\n",
    "    progress.update()\n",
    "\n",
    "    if i % 100 == 0:\n",
    "        database.to_csv(out_name, index=False)\n",
    "\n",
    "database.to_csv(out_name, index=False)"
   ]
  }
 ],
 "metadata": {
  "kernelspec": {
   "display_name": ".venv",
   "language": "python",
   "name": "python3"
  },
  "language_info": {
   "codemirror_mode": {
    "name": "ipython",
    "version": 3
   },
   "file_extension": ".py",
   "mimetype": "text/x-python",
   "name": "python",
   "nbconvert_exporter": "python",
   "pygments_lexer": "ipython3",
   "version": "3.10.10"
  },
  "orig_nbformat": 4,
  "vscode": {
   "interpreter": {
    "hash": "d02e99f230cf8cd2daa39d85b7231ef4de87464d27e719fb70d572afffa0509b"
   }
  }
 },
 "nbformat": 4,
 "nbformat_minor": 2
}
