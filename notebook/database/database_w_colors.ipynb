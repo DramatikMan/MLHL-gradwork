{
 "cells": [
  {
   "cell_type": "code",
   "execution_count": null,
   "metadata": {},
   "outputs": [],
   "source": [
    "import io\n",
    "import pandas as pd\n",
    "from pathlib import Path\n",
    "from PIL import Image\n",
    "from tqdm.notebook import tqdm\n",
    "\n",
    "from helper import get_dominant_color\n",
    "from constant import RGB, RYB\n",
    "\n",
    "# database = pd.read_csv(\"database.csv\")\n",
    "out_name = \"database_w_colors.csv\"\n",
    "color_RGB_col, color_RYB_col = \"color_RGB\", \"color_RYB\"\n",
    "# database[color_RGB_col], database[color_RYB_col] = \"\", \"\"\n",
    "# database.to_csv(out_name, index=False)\n",
    "database = pd.read_csv(out_name)\n",
    "start = database[color_RGB_col].isna().where(lambda x: x == True).first_valid_index()\n",
    "data_root_path = Path.cwd().parent\n",
    "\n",
    "progress = tqdm(total=21000)\n",
    "progress.update(start)\n",
    "i = start\n",
    "\n",
    "def assign_colors(df, row_idx, pixel_access):\n",
    "    df.at[row_idx, \"color_RGB\"] = get_dominant_color(RGB, pixel_access)\n",
    "    df.at[row_idx, \"color_RYB\"] = get_dominant_color(RYB, pixel_access)\n",
    "\n",
    "while i < 21000:\n",
    "    with Image.open(path := data_root_path / Path(database.at[i, \"path\"])) as im:\n",
    "        px = im.load()\n",
    "\n",
    "    try:\n",
    "        assign_colors(database, i, px)\n",
    "    except IndexError:\n",
    "        with open(\"errors.txt\", \"a\") as errors:\n",
    "            errors.write(str(path) + \"\\n\")\n",
    "\n",
    "        with open(path, \"rb\") as im:\n",
    "            img = Image.open(io.BytesIO(im.read()), formats=(\"JPEG\",))\n",
    "            img.resize((224, 224)).save(path, \"JPEG\")\n",
    "\n",
    "        with Image.open(path) as im:\n",
    "            px = im.load()\n",
    "            assign_colors(database, i, px)\n",
    "    except Exception:\n",
    "        with open(\"error.log\", \"w\") as log:\n",
    "            log.write(str(path))\n",
    "\n",
    "        raise\n",
    "\n",
    "    i += 1\n",
    "    progress.update()\n",
    "\n",
    "    if i % 100 == 0:\n",
    "        database.to_csv(out_name, index=False)\n",
    "\n",
    "database.to_csv(out_name, index=False)"
   ]
  }
 ],
 "metadata": {
  "kernelspec": {
   "display_name": ".venv",
   "language": "python",
   "name": "python3"
  },
  "language_info": {
   "codemirror_mode": {
    "name": "ipython",
    "version": 3
   },
   "file_extension": ".py",
   "mimetype": "text/x-python",
   "name": "python",
   "nbconvert_exporter": "python",
   "pygments_lexer": "ipython3",
   "version": "3.10.10"
  },
  "orig_nbformat": 4,
  "vscode": {
   "interpreter": {
    "hash": "d02e99f230cf8cd2daa39d85b7231ef4de87464d27e719fb70d572afffa0509b"
   }
  }
 },
 "nbformat": 4,
 "nbformat_minor": 2
}
