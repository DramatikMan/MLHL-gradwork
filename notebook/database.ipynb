{
 "cells": [
  {
   "cell_type": "code",
   "execution_count": 1,
   "metadata": {},
   "outputs": [],
   "source": [
    "from pathlib import Path\n",
    "import pandas as pd\n",
    "\n",
    "database = []\n",
    "cwd = Path.cwd()\n",
    "data_folder = cwd / \"data\"\n",
    "\n",
    "for i in data_folder.iterdir():\n",
    "    for j in i.iterdir():\n",
    "        category = j.name\n",
    "\n",
    "        for k in j.iterdir():\n",
    "            path = k.relative_to(cwd)\n",
    "            database.append({\"path\": path, \"category\": category})\n",
    "\n",
    "df = pd.DataFrame(database)\n",
    "df.to_csv(\"database.csv\", index=False)"
   ]
  }
 ],
 "metadata": {
  "kernelspec": {
   "display_name": ".venv",
   "language": "python",
   "name": "python3"
  },
  "language_info": {
   "codemirror_mode": {
    "name": "ipython",
    "version": 3
   },
   "file_extension": ".py",
   "mimetype": "text/x-python",
   "name": "python",
   "nbconvert_exporter": "python",
   "pygments_lexer": "ipython3",
   "version": "3.10.10"
  },
  "orig_nbformat": 4,
  "vscode": {
   "interpreter": {
    "hash": "d02e99f230cf8cd2daa39d85b7231ef4de87464d27e719fb70d572afffa0509b"
   }
  }
 },
 "nbformat": 4,
 "nbformat_minor": 2
}
